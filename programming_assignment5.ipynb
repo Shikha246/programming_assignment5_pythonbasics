{
 "cells": [
  {
   "cell_type": "markdown",
   "id": "6978afbb",
   "metadata": {},
   "source": [
    "## 1. Write a Python Program to Find LCM?"
   ]
  },
  {
   "cell_type": "code",
   "execution_count": 2,
   "id": "f7f3233d",
   "metadata": {},
   "outputs": [
    {
     "name": "stdout",
     "output_type": "stream",
     "text": [
      "Enter the first number:2\n",
      "Enter the second number:3\n",
      "The LCM of 2 and 3 is 6\n"
     ]
    }
   ],
   "source": [
    "n1= int(input(\"Enter the first number:\"))\n",
    "n2=int(input(\"Enter the second number:\"))\n",
    "max_num=max(n1,n2)\n",
    "copy_max=max_num\n",
    "while True:\n",
    "    if max_num%n1 == 0 and max_num%n2 == 0:\n",
    "        print(f\"The LCM of {n1} and {n2} is {max_num}\")\n",
    "        break\n",
    "    else:\n",
    "        max_num= max_num+copy_max\n",
    "        "
   ]
  },
  {
   "cell_type": "markdown",
   "id": "91af7e24",
   "metadata": {},
   "source": [
    "## 2. Write a Python Program to Find HCF?"
   ]
  },
  {
   "cell_type": "code",
   "execution_count": 3,
   "id": "eae21a37",
   "metadata": {},
   "outputs": [
    {
     "name": "stdout",
     "output_type": "stream",
     "text": [
      "Enter the first number:24\n",
      "Enter second number:60\n",
      "The Hcf of 24 and 60: 12\n"
     ]
    }
   ],
   "source": [
    "num1= int(input(\"Enter the first number:\"))\n",
    "num2= int(input(\"Enter second number:\"))\n",
    "if num1>num2:\n",
    "    min_num=num2\n",
    "else:\n",
    "    min_num=num1\n",
    "    \n",
    "for i in range(1,min_num+1):\n",
    "    if num1%i == 0 and num2%i==0:\n",
    "        hcf=i\n",
    "print(f\"The Hcf of {num1} and {num2}: {hcf}\")"
   ]
  },
  {
   "cell_type": "markdown",
   "id": "048327dd",
   "metadata": {},
   "source": [
    "## 3. Write a Python Program to Convert Decimal to Binary, Octal and Hexadecimal?"
   ]
  },
  {
   "cell_type": "code",
   "execution_count": 6,
   "id": "74889d3e",
   "metadata": {},
   "outputs": [
    {
     "name": "stdout",
     "output_type": "stream",
     "text": [
      "Enter a number in decimal:7\n",
      "[1]Binary\n",
      "[2]Octal\n",
      "[3]Hexadecimal\n",
      "1\n",
      "The binary of 7 is 0b111\n"
     ]
    }
   ],
   "source": [
    "num= int(input(\"Enter a number in decimal:\"))\n",
    "convert_to= int(input(\"[1]Binary\\n[2]Octal\\n[3]Hexadecimal\\n\"))\n",
    "if convert_to == 1:\n",
    "    print(f\"The binary of {num} is {bin(num)}\")\n",
    "elif convert_to ==2:\n",
    "    print(f\"The octal of {num} is {oct(num)}\")\n",
    "elif convert_to ==3:\n",
    "    print(f\"The Hexadecimal of {num} is {hex(num)}\")\n",
    "else:\n",
    "    print(\"Review your input\")"
   ]
  },
  {
   "cell_type": "markdown",
   "id": "f71e6c47",
   "metadata": {},
   "source": [
    "## 4. Write a Python Program To Find ASCII value of a character?"
   ]
  },
  {
   "cell_type": "code",
   "execution_count": 9,
   "id": "2f31acd9",
   "metadata": {},
   "outputs": [
    {
     "name": "stdout",
     "output_type": "stream",
     "text": [
      "Enter a character:i\n",
      "The ascii value of i is 105."
     ]
    }
   ],
   "source": [
    "character= input(\"Enter a character:\")\n",
    "print(f\"The ascii value of {character} is {ord(character)}\",end=\".\")"
   ]
  },
  {
   "cell_type": "markdown",
   "id": "8f4c993d",
   "metadata": {},
   "source": [
    "## 5. Write a Python Program to Make a Simple Calculator with 4 basic mathematical operations?"
   ]
  },
  {
   "cell_type": "code",
   "execution_count": 13,
   "id": "19fe9707",
   "metadata": {},
   "outputs": [
    {
     "name": "stdout",
     "output_type": "stream",
     "text": [
      "Enter first number:7\n",
      "Enter second number:5\n",
      "[1]Add\n",
      "[2]Subtract\n",
      "[3]Division\n",
      "[4]Multiplication\n",
      "1\n",
      "The sum of the numbers 7 and 5 is 12\n"
     ]
    }
   ],
   "source": [
    "num1= int(input(\"Enter first number:\"))\n",
    "num2= int(input(\"Enter second number:\"))\n",
    "operation= int(input(\"[1]Add\\n[2]Subtract\\n[3]Division\\n[4]Multiplication\\n\"))\n",
    "if operation ==1:\n",
    "    print(f\"The sum of the numbers {num1} and {num2} is {num1+num2}\")\n",
    "elif operation ==2:\n",
    "    print(f\"The difference of the numbers {num1} and {num2} is {num1-num2}\")\n",
    "elif operation ==3:\n",
    "    print(f\"The division of the numbers {num1} and {num2} is {num1/num2}\")\n",
    "elif operation ==4:\n",
    "    print(f\"The multiplication of the numbers {num1} and {num2} is {num1*num2}\")\n",
    "else:\n",
    "    print(\"Review your input\")\n"
   ]
  }
 ],
 "metadata": {
  "kernelspec": {
   "display_name": "Python 3 (ipykernel)",
   "language": "python",
   "name": "python3"
  },
  "language_info": {
   "codemirror_mode": {
    "name": "ipython",
    "version": 3
   },
   "file_extension": ".py",
   "mimetype": "text/x-python",
   "name": "python",
   "nbconvert_exporter": "python",
   "pygments_lexer": "ipython3",
   "version": "3.9.7"
  }
 },
 "nbformat": 4,
 "nbformat_minor": 5
}
